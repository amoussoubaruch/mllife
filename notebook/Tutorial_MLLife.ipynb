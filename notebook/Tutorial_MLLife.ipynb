{
 "cells": [
  {
   "cell_type": "markdown",
   "metadata": {},
   "source": [
    "# MLLife tutorial"
   ]
  },
  {
   "cell_type": "code",
   "execution_count": null,
   "metadata": {},
   "outputs": [],
   "source": [
    "from mllife.mlflow_process import MLflowProcess\n",
    "\n",
    "mlflow_uri = \"http://10.32.0.6:5000\"\n",
    "mlflow_experiment = \"name_of_my_experiment_tab\"\n",
    "run_name = \"name_of_my_run_name_v2\" "
   ]
  },
  {
   "cell_type": "code",
   "execution_count": null,
   "metadata": {},
   "outputs": [],
   "source": [
    "mlf_process = MLflowProcess(mlflow_uri, mlflow_experiment)"
   ]
  },
  {
   "cell_type": "code",
   "execution_count": null,
   "metadata": {},
   "outputs": [],
   "source": [
    "dict_params = {\n",
    "    \"target_type\" : \"cs\",\n",
    "    \"classification_method\" : \"multi\",\n",
    "    \"model_version\" : \"v1.0\"\n",
    "}"
   ]
  },
  {
   "cell_type": "code",
   "execution_count": null,
   "metadata": {},
   "outputs": [],
   "source": [
    "dict_artifacts_paths = dict()\n",
    "dict_artifacts_paths[\"ref\"] = \"mllife_test\""
   ]
  },
  {
   "cell_type": "code",
   "execution_count": null,
   "metadata": {},
   "outputs": [],
   "source": [
    "import pandas as pd\n",
    "import numpy\n",
    "df_train = pd.DataFrame({\"verbatim\" : [\"Hello world\", \"Bonjour monde\", \"Tutorial ici\"], \"target\": [\"A01\", \"B01\", \"C01\"], \"prediction\": [\"A01\", \"B01\", \"C03\"], \"probas\": numpy.array([0.0, 1.0, 0.3])})\n",
    "df_validation = pd.DataFrame({\"verbatim\" : [\"Hello world\", \"Bonjour monde\", \"Tutorial ici\"], \"target\": [\"A01\", \"B01\", \"C01\"], \"prediction\": [\"A01\", \"B01\", \"C03\"], \"probas\": numpy.array([0.0, 1.0, 0.3])})\n",
    "df_test = pd.DataFrame({\"verbatim\" : [\"Hello world\", \"Bonjour monde\", \"Tutorial ici\"], \"target\": [\"A01\", \"B01\", \"C01\"], \"prediction\": [\"A01\", \"B01\", \"C03\"], \"probas\": numpy.array([0.0, 1.0, 0.3])})"
   ]
  },
  {
   "cell_type": "code",
   "execution_count": null,
   "metadata": {},
   "outputs": [],
   "source": [
    "dict_artifacts = {\n",
    "    \"df_train_with_predictions\" : df_train,\n",
    "    \"df_val_with_predictions\" : df_validation,\n",
    "    \"df_test_with_predictions\" : df_test \n",
    "}"
   ]
  },
  {
   "cell_type": "code",
   "execution_count": null,
   "metadata": {},
   "outputs": [],
   "source": [
    "dict_target_vectors = dict()\n",
    "dict_target_vectors[\"y_train\"] = df_train['target'].values\n",
    "dict_target_vectors[\"y_train_pred\"] = df_train['prediction'].values\n",
    "dict_target_vectors[\"y_train_probas\"] = df_train['probas'].values\n",
    "dict_target_vectors[\"y_validation\"] = df_validation['target'].values\n",
    "dict_target_vectors[\"y_val_pred\"] = df_validation['prediction'].values\n",
    "dict_target_vectors[\"y_val_probas\"] = df_validation['probas'].values\n",
    "dict_target_vectors[\"y_test\"] = df_test['target'].values\n",
    "dict_target_vectors[\"y_test_pred\"] = df_test['prediction'].values\n",
    "dict_target_vectors[\"y_test_probas\"] = df_test['probas'].values"
   ]
  },
  {
   "cell_type": "code",
   "execution_count": null,
   "metadata": {},
   "outputs": [],
   "source": [
    "mlf_process.mlflow_process(run_name,\n",
    "                           dict_params = dict_params,\n",
    "                           dict_target_vectors = dict_target_vectors,\n",
    "                           dict_artifacts_datasets = dict_artifacts,\n",
    "                           dict_artifacts_paths = dict_artifacts_paths,\n",
    "                           bool_metrics = True,\n",
    "                           bool_params = True,\n",
    "                           bool_artifacts = True,\n",
    "                           bool_models = False)"
   ]
  },
  {
   "cell_type": "code",
   "execution_count": null,
   "metadata": {},
   "outputs": [],
   "source": []
  }
 ],
 "metadata": {
  "environment": {
   "name": "tf2-gpu.2-3.m80",
   "type": "gcloud",
   "uri": "gcr.io/deeplearning-platform-release/tf2-gpu.2-3:m80"
  },
  "kernelspec": {
   "display_name": "Python 3 (ipykernel)",
   "language": "python",
   "name": "python3"
  },
  "language_info": {
   "codemirror_mode": {
    "name": "ipython",
    "version": 3
   },
   "file_extension": ".py",
   "mimetype": "text/x-python",
   "name": "python",
   "nbconvert_exporter": "python",
   "pygments_lexer": "ipython3",
   "version": "3.9.13"
  }
 },
 "nbformat": 4,
 "nbformat_minor": 4
}
